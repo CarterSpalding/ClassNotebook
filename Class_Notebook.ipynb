{
 "cells": [
  {
   "cell_type": "markdown",
   "metadata": {},
   "source": [
    "# Ch9 Classes"
   ]
  },
  {
   "cell_type": "markdown",
   "metadata": {},
   "source": [
    "### Python is an object oriented programming language.\n",
    "- Almost everything in Python is an object, with its properties and methods (Functions).\n",
    "- A Class is like an object constructor, or a \"blueprint\" for creating objects."
   ]
  },
  {
   "cell_type": "code",
   "execution_count": 12,
   "metadata": {
    "scrolled": true
   },
   "outputs": [
    {
     "name": "stdout",
     "output_type": "stream",
     "text": [
      "Angel\n",
      "Hill\n",
      "Employee Full Name: Angel Hill\n",
      "Employee Full Name: Peter White\n"
     ]
    }
   ],
   "source": [
    "class Employee(): \n",
    "    #innit is the constructor of the class.\n",
    "    #self is always the first value of innit.  Used to represent the instance of a class.\n",
    "    def __init__(self, first, last, age, dept): #method/function.\n",
    "        self.first=first.title()\n",
    "        self.last=last.title()\n",
    "        self.age=age\n",
    "        self.dept=dept.title()\n",
    "    def fullname(self):\n",
    "        return f\"Employee Full Name: {self.first} {self.last}\"\n",
    "emp1=Employee(\"angel\", \"hill\", 32, \"accounting\")\n",
    "emp2=Employee(\"peter\", \"white\", 35, \"finance\")\n",
    "print(emp1.first)\n",
    "print(emp1.last)\n",
    "print(emp1.fullname())\n",
    "print(emp2.fullname())\n",
    "#print(f\"Employee Full Name: {emp1.first} {emp1.last}\")"
   ]
  },
  {
   "cell_type": "markdown",
   "metadata": {},
   "source": [
    "### Creating the Dog Class\n",
    "Each instance created from the Dog class will store a name and an age, and we’ll give each dog the ability to sit() and roll_over():"
   ]
  },
  {
   "cell_type": "code",
   "execution_count": 18,
   "metadata": {},
   "outputs": [
    {
     "name": "stdout",
     "output_type": "stream",
     "text": [
      "Pepper\n",
      "10\n",
      "Shelby\n",
      "4\n",
      "The dog, Shelby, is now sitting\n",
      "The dog, Pepper, is now rolling over\n"
     ]
    }
   ],
   "source": [
    "class Dog():\n",
    "    def __init__(self, name, age):\n",
    "        self.name=name.title()\n",
    "        self.age=age\n",
    "    def sit(self):\n",
    "        print(f\"The dog, {self.name}, is now sitting\")\n",
    "    def rollover(self):\n",
    "        print(f\"The dog, {self.name}, is now rolling over\")\n",
    "dog1=Dog(\"Pepper\", 10)\n",
    "dog2=Dog(\"Shelby\",4)\n",
    "print(dog1.name)\n",
    "print(dog1.age)\n",
    "print(dog2.name)\n",
    "print(dog2.age)\n",
    "dog2.sit()\n",
    "dog1.rollover()"
   ]
  },
  {
   "cell_type": "markdown",
   "metadata": {},
   "source": [
    "#### Note:\n",
    "- By convention, capitalized names refer to classes in Python. \n",
    "- The parentheses in the class definition are empty because we’re creating this class from scratch.\n",
    "- All classes have a function called __init__(), which is always executed when the class is being initiated.\n",
    "- Use the __init__() function to assign values to object properties, or other operations that are necessary to do when the object is being created\n",
    "- Any variable prefixed with `self` is available to every method in the class, and we’ll also be able to access these variables through any instance created from the class.\n",
    "- The Dog class has two other methods defined: sit() and roll_over().Because these methods don’t need additional information like a name or age, we just define them to have one parameter, self."
   ]
  },
  {
   "cell_type": "markdown",
   "metadata": {},
   "source": [
    "### Restaurant: Make a class called Restaurant. The __init__() method for Restaurant should store two attributes: a restaurant_name and a cuisine_type.\n",
    "- Make a method called `describe_restaurant()` that prints name of teh restrurent and the cuisine type\n",
    "- and a method called open_restaurant() that prints a message indicating that the restaurant is open.\n",
    "- Make an instance called restaurant from your class. Print the two attributes individually, and then call both methods.\n"
   ]
  },
  {
   "cell_type": "code",
   "execution_count": 45,
   "metadata": {},
   "outputs": [],
   "source": [
    "class Restaurant():\n",
    "    def __init__(self, name, foodtype):\n",
    "        self.name=name\n",
    "        self.foodtype=foodtype\n",
    "    def open_restaurant(self):\n",
    "        print(f\"{self.name} is now open!\")\n",
    "    def close_restaurant(self):\n",
    "        print(f\"{self.name} is now closed!\")\n",
    "    def describe_restaurant(self):\n",
    "        print(f\"{self.name} is a great place to get {self.foodtype}.\")"
   ]
  },
  {
   "cell_type": "code",
   "execution_count": 46,
   "metadata": {},
   "outputs": [],
   "source": [
    "restaurant1=Restaurant(\"McDonalds\", \"Fast Food\")\n",
    "restaurant2=Restaurant(\"Ruth's Chris\", \"Steak\")\n",
    "restaurant3=Restaurant(\"Olive Garden\", \"Italian\")"
   ]
  },
  {
   "cell_type": "code",
   "execution_count": 47,
   "metadata": {},
   "outputs": [
    {
     "name": "stdout",
     "output_type": "stream",
     "text": [
      "McDonalds\n",
      "Fast Food\n",
      "McDonalds is now open\n",
      "Ruth's Chris is now closed\n"
     ]
    }
   ],
   "source": [
    "print(restaurant1.name)\n",
    "print(restaurant1.foodtype)\n",
    "restaurant1.open_restaurant()\n",
    "restaurant2.close_restaurant()"
   ]
  },
  {
   "cell_type": "markdown",
   "metadata": {},
   "source": [
    "### - Create three different instances from the class, and call describe_restaurant() for each instance."
   ]
  },
  {
   "cell_type": "code",
   "execution_count": 48,
   "metadata": {},
   "outputs": [
    {
     "name": "stdout",
     "output_type": "stream",
     "text": [
      "McDonalds is a great place to get Fast Food\n",
      "Ruth's Chris is a great place to get Steak\n",
      "Olive Garden is a great place to get Italian\n"
     ]
    }
   ],
   "source": [
    "restaurant1.describe_restaurant()\n",
    "restaurant2.describe_restaurant()\n",
    "restaurant3.describe_restaurant()"
   ]
  },
  {
   "cell_type": "markdown",
   "metadata": {},
   "source": [
    "### Users: Make a class called User. Create attributes called first_name and last_name, username, location \n",
    "- Make a method called describe_user() that prints a summary of the user’s information. \n",
    "- Make another method called greet_user() that prints a personalized greeting to the user.\n",
    "- Create several instances representing different users, and call both methods for each user."
   ]
  },
  {
   "cell_type": "code",
   "execution_count": 54,
   "metadata": {},
   "outputs": [
    {
     "name": "stdout",
     "output_type": "stream",
     "text": [
      "The user's username is cspalding and they are located in Kentucky\n",
      "Hello! Jim Spalding, Welcome!\n",
      "The user's username is fspalding and they are located in Florida\n"
     ]
    }
   ],
   "source": [
    "class User():\n",
    "    def __init__(self, first, last, username, location):\n",
    "        self.first=first\n",
    "        self.last=last\n",
    "        self.username=username\n",
    "        self.location=location\n",
    "    def describe_user(self):\n",
    "        print(f\"The user's username is {self.username} and they are located in {self.location}\")\n",
    "    def greet_user(self):\n",
    "        print(f\"Hello! {self.first} {self.last}, Welcome!\")\n",
    "user1=User(\"Carter\", \"Spalding\", \"cspalding\", \"Kentucky\")\n",
    "user2=User(\"Jim\", \"Spalding\", \"jspaling\", \"South Carolina\")\n",
    "user3=User(\"Freddy\", \"Spalding\", \"fspalding\", \"Florida\")\n",
    "user1.describe_user()\n",
    "user2.greet_user()\n",
    "user3.describe_user()"
   ]
  },
  {
   "cell_type": "markdown",
   "metadata": {},
   "source": [
    "## Setting a Default Value for an Attribute"
   ]
  },
  {
   "cell_type": "code",
   "execution_count": 4,
   "metadata": {},
   "outputs": [],
   "source": [
    "class Car():\n",
    "    def __init__(self, make, model, year):\n",
    "        self.make=make\n",
    "        self.model=model\n",
    "        self.year=year\n",
    "        self.odometer_reading=0\n",
    "    def get_descriptive_name(self):\n",
    "        long_name=str(self.year)+ \" \"+(self.make)+\" \"+(self.model)\n",
    "        return long_name.title()\n",
    "    def read_odometer(self):\n",
    "        print(f'This car has {self.odometer_reading} miles on it.')\n",
    "    def update_odometer(self, mileage):\n",
    "        self.odometer_reading+=mileage"
   ]
  },
  {
   "cell_type": "code",
   "execution_count": 5,
   "metadata": {},
   "outputs": [
    {
     "data": {
      "text/plain": [
       "'2009 Subaru Forrester'"
      ]
     },
     "execution_count": 5,
     "metadata": {},
     "output_type": "execute_result"
    }
   ],
   "source": [
    "my_car=Car(\"subaru\", \"forrester\", 2009)\n",
    "my_car.get_descriptive_name()"
   ]
  },
  {
   "cell_type": "code",
   "execution_count": 61,
   "metadata": {},
   "outputs": [
    {
     "name": "stdout",
     "output_type": "stream",
     "text": [
      "This car has 0 miles on it.\n"
     ]
    }
   ],
   "source": [
    "my_car.read_odometer()"
   ]
  },
  {
   "cell_type": "code",
   "execution_count": 62,
   "metadata": {},
   "outputs": [],
   "source": [
    "my_car.update_odometer(100)"
   ]
  },
  {
   "cell_type": "code",
   "execution_count": 63,
   "metadata": {},
   "outputs": [
    {
     "name": "stdout",
     "output_type": "stream",
     "text": [
      "This car has 100 miles on it.\n"
     ]
    }
   ],
   "source": [
    "my_car.read_odometer()"
   ]
  },
  {
   "cell_type": "code",
   "execution_count": 64,
   "metadata": {},
   "outputs": [],
   "source": [
    "my_car.update_odometer(100)"
   ]
  },
  {
   "cell_type": "code",
   "execution_count": 65,
   "metadata": {},
   "outputs": [
    {
     "name": "stdout",
     "output_type": "stream",
     "text": [
      "This car has 200 miles on it.\n"
     ]
    }
   ],
   "source": [
    "my_car.read_odometer()"
   ]
  },
  {
   "cell_type": "markdown",
   "metadata": {},
   "source": [
    "#### Modifying an Attribute’s Value Directly"
   ]
  },
  {
   "cell_type": "code",
   "execution_count": null,
   "metadata": {},
   "outputs": [],
   "source": []
  },
  {
   "cell_type": "code",
   "execution_count": null,
   "metadata": {},
   "outputs": [],
   "source": []
  },
  {
   "cell_type": "markdown",
   "metadata": {},
   "source": [
    "### Modifying an Attribute’s Value Through a Method"
   ]
  },
  {
   "cell_type": "code",
   "execution_count": null,
   "metadata": {},
   "outputs": [],
   "source": []
  },
  {
   "cell_type": "code",
   "execution_count": null,
   "metadata": {},
   "outputs": [],
   "source": []
  },
  {
   "cell_type": "markdown",
   "metadata": {},
   "source": [
    "### Incrementing an Attribute’s Value Through a Method"
   ]
  },
  {
   "cell_type": "code",
   "execution_count": null,
   "metadata": {},
   "outputs": [],
   "source": []
  },
  {
   "cell_type": "code",
   "execution_count": null,
   "metadata": {},
   "outputs": [],
   "source": []
  },
  {
   "cell_type": "markdown",
   "metadata": {},
   "source": [
    "# Inheritance\n",
    "- You don’t always have to start from scratch when writing a class. If the class you’re writing is a specialized version of another class you wrote, you can use inheritance. \n",
    "- When one class inherits from another, it automatically takes on all the attributes and methods of the first class. The original class is called the `parent class`, and the new class is the `child class`. \n",
    "- The child class inherits every attribute and method from its parent class but is also free to define new attributes and methods of its own."
   ]
  },
  {
   "cell_type": "markdown",
   "metadata": {},
   "source": [
    "### Parent Class"
   ]
  },
  {
   "cell_type": "code",
   "execution_count": 1,
   "metadata": {},
   "outputs": [],
   "source": [
    "class Car():\n",
    "    def __init__(self, make, model, year):\n",
    "        self.make=make\n",
    "        self.model=model\n",
    "        self.year=year\n",
    "        self.odometer_reading=0\n",
    "    def get_descriptive_name(self):\n",
    "        long_name=str(self.year)+ \" \"+(self.make)+\" \"+(self.model)\n",
    "        return long_name.title()\n",
    "    def read_odometer(self):\n",
    "        print(f'This car has {self.odometer_reading} miles on it.')\n",
    "    def update_odometer(self, mileage):\n",
    "        self.odometer_reading+=mileage"
   ]
  },
  {
   "cell_type": "markdown",
   "metadata": {},
   "source": [
    "### Child Class"
   ]
  },
  {
   "cell_type": "code",
   "execution_count": 6,
   "metadata": {},
   "outputs": [],
   "source": [
    "class Electric_Car(Car):\n",
    "    def __init__(self, make, model, year):\n",
    "        super().__init__(make, model, year) #inherits the parent class attributes"
   ]
  },
  {
   "cell_type": "code",
   "execution_count": 7,
   "metadata": {},
   "outputs": [
    {
     "data": {
      "text/plain": [
       "'2022 Tesla Model X'"
      ]
     },
     "execution_count": 7,
     "metadata": {},
     "output_type": "execute_result"
    }
   ],
   "source": [
    "my_tesla=Electric_Car(\"Tesla\", \"Model X\", 2022)\n",
    "my_tesla.get_descriptive_name()"
   ]
  },
  {
   "cell_type": "code",
   "execution_count": 9,
   "metadata": {},
   "outputs": [
    {
     "name": "stdout",
     "output_type": "stream",
     "text": [
      "This car has 0 miles on it.\n"
     ]
    }
   ],
   "source": [
    "my_tesla.read_odometer()"
   ]
  },
  {
   "cell_type": "code",
   "execution_count": 10,
   "metadata": {},
   "outputs": [],
   "source": [
    "my_tesla.update_odometer(145)"
   ]
  },
  {
   "cell_type": "code",
   "execution_count": 11,
   "metadata": {},
   "outputs": [
    {
     "name": "stdout",
     "output_type": "stream",
     "text": [
      "This car has 145 miles on it.\n"
     ]
    }
   ],
   "source": [
    "my_tesla.read_odometer()"
   ]
  },
  {
   "cell_type": "code",
   "execution_count": 12,
   "metadata": {},
   "outputs": [],
   "source": [
    "my_tesla.update_odometer(145)"
   ]
  },
  {
   "cell_type": "code",
   "execution_count": 13,
   "metadata": {},
   "outputs": [
    {
     "name": "stdout",
     "output_type": "stream",
     "text": [
      "This car has 290 miles on it.\n"
     ]
    }
   ],
   "source": [
    "my_tesla.read_odometer()"
   ]
  },
  {
   "cell_type": "markdown",
   "metadata": {},
   "source": [
    "### Practice: Create a class named Person, with firstname and lastname properties, and a printname method:"
   ]
  },
  {
   "cell_type": "code",
   "execution_count": 26,
   "metadata": {},
   "outputs": [],
   "source": [
    "class Person():\n",
    "    def __init__(self, first, last):\n",
    "        self.first=first.title()\n",
    "        self.last=last.title()\n",
    "    def print_name(self):\n",
    "        print(f\"Fullname : {self.first} {self.last}\")"
   ]
  },
  {
   "cell_type": "code",
   "execution_count": 27,
   "metadata": {},
   "outputs": [
    {
     "name": "stdout",
     "output_type": "stream",
     "text": [
      "Fullname : Carter Spalding\n"
     ]
    }
   ],
   "source": [
    "my_name=Person(\"carter\",\"spalding\")\n",
    "my_name.print_name()"
   ]
  },
  {
   "cell_type": "markdown",
   "metadata": {},
   "source": [
    "## Create rectangle and square classes and create methods for calculating the area and perimeter"
   ]
  },
  {
   "cell_type": "code",
   "execution_count": 91,
   "metadata": {},
   "outputs": [],
   "source": [
    "class Rectangle():\n",
    "    def __init__(self, length, width):\n",
    "        self.length=length\n",
    "        self.width=width\n",
    "    def area(self):\n",
    "        a=self.length*self.width\n",
    "        print(f\"The area of your rectangle is {a} linear units squared\")\n",
    "    def perimiter(self):\n",
    "        p=(self.length*2)+(self.width*2)\n",
    "        print(f\"The perimiter of your rectangle is {p} linear units\")"
   ]
  },
  {
   "cell_type": "code",
   "execution_count": 92,
   "metadata": {},
   "outputs": [],
   "source": [
    "class Square(Rectangle):\n",
    "    def __init__(self, length):\n",
    "        self.length=length\n",
    "    def area(self):\n",
    "        print(f\"The area of your square is {self.length**2} linear units squared\")\n",
    "    def perimiter(self):\n",
    "        print(f\"The perimiter of your square is {self.length*4} linear units\")"
   ]
  },
  {
   "cell_type": "code",
   "execution_count": 93,
   "metadata": {},
   "outputs": [],
   "source": [
    "rectangle1=Rectangle(2,4)\n",
    "square1=Square(4)"
   ]
  },
  {
   "cell_type": "code",
   "execution_count": 94,
   "metadata": {},
   "outputs": [
    {
     "name": "stdout",
     "output_type": "stream",
     "text": [
      "The area of your rectangle is 8 linear units squared\n",
      "The area of your square is 16 linear units squared\n"
     ]
    }
   ],
   "source": [
    "rectangle1.area()\n",
    "square1.area()"
   ]
  },
  {
   "cell_type": "code",
   "execution_count": 95,
   "metadata": {},
   "outputs": [
    {
     "name": "stdout",
     "output_type": "stream",
     "text": [
      "The perimiter of your rectangle is 12 linear units\n",
      "The perimiter of your square is 16 linear units\n"
     ]
    }
   ],
   "source": [
    "rectangle1.perimiter()\n",
    "square1.perimiter()"
   ]
  },
  {
   "cell_type": "markdown",
   "metadata": {},
   "source": [
    "## Use Inheritance to Create Square Class from Parent Class Rectangle"
   ]
  },
  {
   "cell_type": "code",
   "execution_count": 108,
   "metadata": {},
   "outputs": [],
   "source": [
    "class Rectangle():\n",
    "    def __init__(self, length, width):\n",
    "        self.length=length\n",
    "        self.width=width\n",
    "    def area(self):\n",
    "        a=self.length*self.width\n",
    "        print(f\"The area of your rectangle is {a} linear units squared\")\n",
    "    def perimiter(self):\n",
    "        p=(self.length*2)+(self.width*2)\n",
    "        print(f\"The perimiter of your rectangle is {p} linear units\")\n",
    "class Sqaure(Rectangle):\n",
    "    def __init__(self, length):\n",
    "        super().__init__(length, length)"
   ]
  },
  {
   "cell_type": "code",
   "execution_count": 112,
   "metadata": {},
   "outputs": [],
   "source": [
    "square1=Square(6)"
   ]
  },
  {
   "cell_type": "code",
   "execution_count": 113,
   "metadata": {},
   "outputs": [
    {
     "name": "stdout",
     "output_type": "stream",
     "text": [
      "The area of your square is 36 linear units squared\n"
     ]
    }
   ],
   "source": [
    "square1.area()"
   ]
  },
  {
   "cell_type": "code",
   "execution_count": 114,
   "metadata": {},
   "outputs": [
    {
     "name": "stdout",
     "output_type": "stream",
     "text": [
      "The perimiter of your square is 24 linear units\n"
     ]
    }
   ],
   "source": [
    "square1.perimiter()"
   ]
  },
  {
   "cell_type": "markdown",
   "metadata": {},
   "source": [
    "### Create child classes called Student using Inheritance contains the first and last name and the graduation year \n",
    "- Add a method called `welcome` that prints the student graduation year\n",
    "- Test the student method for two students"
   ]
  },
  {
   "cell_type": "code",
   "execution_count": 47,
   "metadata": {},
   "outputs": [],
   "source": [
    "class Student(Person):\n",
    "    def __init__(self, first, last, grad_year):\n",
    "        super().__init__(first, last)\n",
    "        self.grad_year=grad_year\n",
    "    def welcome(self):\n",
    "        print(f\"Hello, {self.first} {self.last}! You will graduate in {self.grad_year}\")"
   ]
  },
  {
   "cell_type": "code",
   "execution_count": 48,
   "metadata": {},
   "outputs": [
    {
     "name": "stdout",
     "output_type": "stream",
     "text": [
      "Hello, Carter Spalding! You will graduate in 2025\n"
     ]
    }
   ],
   "source": [
    "student1=Student(\"carter\", \"spalding\", 2025)\n",
    "Student.welcome(student1)"
   ]
  },
  {
   "cell_type": "code",
   "execution_count": 50,
   "metadata": {},
   "outputs": [
    {
     "name": "stdout",
     "output_type": "stream",
     "text": [
      "Hello, Andrew Spalding! You will graduate in 2026\n"
     ]
    }
   ],
   "source": [
    "student2=Student(\"andrew\",\"spalding\",\"2026\")\n",
    "student2.welcome()"
   ]
  },
  {
   "cell_type": "markdown",
   "metadata": {},
   "source": [
    "## Create a simple calculator using classes"
   ]
  },
  {
   "cell_type": "code",
   "execution_count": 10,
   "metadata": {},
   "outputs": [
    {
     "name": "stdout",
     "output_type": "stream",
     "text": [
      "Choose from the following menu:\n",
      "1. Addition\n",
      "2. Subtraction\n",
      "3. Multplication\n",
      "4. Division\n",
      "5. Exit\n",
      "Enter your choice (1-5): 4\n",
      "Enter first number: 3\n",
      "Enter second number: 2\n",
      "division=1.5\n",
      "Choose from the following menu:\n",
      "1. Addition\n",
      "2. Subtraction\n",
      "3. Multplication\n",
      "4. Division\n",
      "5. Exit\n",
      "Enter your choice (1-5): 7\n",
      "Invalid choice. Please pick again.\n",
      "Choose from the following menu:\n",
      "1. Addition\n",
      "2. Subtraction\n",
      "3. Multplication\n",
      "4. Division\n",
      "5. Exit\n",
      "Enter your choice (1-5): 5\n"
     ]
    }
   ],
   "source": [
    "class Calc():\n",
    "    def __init__(self, num1, num2):\n",
    "        self.num1=num1\n",
    "        self.num2=num2\n",
    "    def addition(num1,num2):\n",
    "        print(f'addition={num1+num2}')\n",
    "    def subtraction(num1,num2):\n",
    "        print(f'subtraction={num1-num2}')\n",
    "    def multiplication(num1,num2):\n",
    "        print(f'multiplication={num1*num2}')\n",
    "    def division(num1,num2):\n",
    "        print(f'division={num1/num2}')\n",
    "\n",
    "while True:\n",
    "    print(\"Choose from the following menu:\")\n",
    "    print(\"1. Addition\")\n",
    "    print(\"2. Subtraction\") \n",
    "    print(\"3. Multplication\")\n",
    "    print(\"4. Division\")\n",
    "    print(\"5. Exit\")\n",
    "    \n",
    "    choice=int(input(\"Enter your choice (1-5): \"))\n",
    "    if choice == 1:\n",
    "        num1=int(input(\"Enter first number: \"))\n",
    "        num2=int(input(\"Enter second number: \"))\n",
    "        Calc.addition(num1, num2)\n",
    "    elif choice == 2:\n",
    "        num1=int(input(\"Enter first number: \"))\n",
    "        num2=int(input(\"Enter second number: \"))\n",
    "        Calc.subtraction(num1, num2)\n",
    "    elif choice ==3:\n",
    "        num1=int(input(\"Enter first number: \"))\n",
    "        num2=int(input(\"Enter second number: \"))\n",
    "        Calc.multiplication(num1, num2)\n",
    "    elif choice ==4:\n",
    "        num1=int(input(\"Enter first number: \"))\n",
    "        num2=int(input(\"Enter second number: \"))\n",
    "        if num2==0:\n",
    "            print(\"Infinity\")\n",
    "        else:\n",
    "            Calc.division(num1, num2)   \n",
    "    elif choice == 5:\n",
    "        break\n",
    "    else:\n",
    "        print(\"Invalid choice. Please pick again.\")"
   ]
  },
  {
   "cell_type": "markdown",
   "metadata": {},
   "source": [
    "## ATM machine "
   ]
  },
  {
   "cell_type": "code",
   "execution_count": 22,
   "metadata": {},
   "outputs": [],
   "source": [
    "class ATM():\n",
    "    def __init__(self):\n",
    "        self.acctbalance=0\n",
    "        print(\"Hello, welcome to the ATM machine!\")\n",
    "    def deposit(self):\n",
    "        amount=float(input(\"How much are you depositing today? \"))\n",
    "        self.acctbalance+=amount\n",
    "        print(f'The amount deposited: {amount}')\n",
    "    def withdrawl(self):\n",
    "        amount=float(input(\"How much are you withdrawling today? \"))\n",
    "        if amount>self.acctbalance:\n",
    "            print(\"You do not have sufficient funds to withdrawl that amount.  Your current account balance is\", self.acctbalance)\n",
    "        else:\n",
    "            self.acctbalance-=amount\n",
    "    def display(self):\n",
    "        print(f'Your account balance is {self.acctbalance}')"
   ]
  },
  {
   "cell_type": "code",
   "execution_count": 28,
   "metadata": {},
   "outputs": [
    {
     "name": "stdout",
     "output_type": "stream",
     "text": [
      "Hello, welcome to the ATM machine!\n",
      "How much are you depositing today? 1000\n",
      "The amount deposited: 1000.0\n"
     ]
    }
   ],
   "source": [
    "my_account=ATM()\n",
    "my_account.deposit()"
   ]
  },
  {
   "cell_type": "code",
   "execution_count": 29,
   "metadata": {},
   "outputs": [
    {
     "name": "stdout",
     "output_type": "stream",
     "text": [
      "How much are you depositing today? 100\n",
      "The amount deposited: 100.0\n"
     ]
    }
   ],
   "source": [
    "my_account.deposit()"
   ]
  },
  {
   "cell_type": "code",
   "execution_count": 30,
   "metadata": {},
   "outputs": [
    {
     "name": "stdout",
     "output_type": "stream",
     "text": [
      "Your account balance is 1100.0\n"
     ]
    }
   ],
   "source": [
    "my_account.display()"
   ]
  },
  {
   "cell_type": "code",
   "execution_count": 31,
   "metadata": {},
   "outputs": [
    {
     "name": "stdout",
     "output_type": "stream",
     "text": [
      "How much are you withdrawling today? 243.39\n"
     ]
    }
   ],
   "source": [
    "my_account.withdrawl()"
   ]
  },
  {
   "cell_type": "code",
   "execution_count": 32,
   "metadata": {},
   "outputs": [
    {
     "name": "stdout",
     "output_type": "stream",
     "text": [
      "Your account balance is 856.61\n"
     ]
    }
   ],
   "source": [
    "my_account.display()"
   ]
  },
  {
   "cell_type": "code",
   "execution_count": 33,
   "metadata": {},
   "outputs": [
    {
     "name": "stdout",
     "output_type": "stream",
     "text": [
      "How much are you withdrawling today? 1000\n",
      "You do not have sufficient funds to withdrawl that amount.  Your current account balance is 856.61\n"
     ]
    }
   ],
   "source": [
    "my_account.withdrawl()"
   ]
  }
 ],
 "metadata": {
  "kernelspec": {
   "display_name": "Python 3",
   "language": "python",
   "name": "python3"
  },
  "language_info": {
   "codemirror_mode": {
    "name": "ipython",
    "version": 3
   },
   "file_extension": ".py",
   "mimetype": "text/x-python",
   "name": "python",
   "nbconvert_exporter": "python",
   "pygments_lexer": "ipython3",
   "version": "3.8.3"
  }
 },
 "nbformat": 4,
 "nbformat_minor": 5
}
