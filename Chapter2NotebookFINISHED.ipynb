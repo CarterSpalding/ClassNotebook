{
 "cells": [
  {
   "cell_type": "markdown",
   "id": "81b2bbc8",
   "metadata": {
    "slideshow": {
     "slide_type": "slide"
    }
   },
   "source": [
    "# Chapter 2: Variables and and Simple Data Types\n",
    "* A variable name is an **identifier**. \n",
    "* May consist of letters, digits and underscores (`_`) but may not begin with a digit. \n",
    "* Python is _case sensitive_. \n",
    "* Each value in Python has a type that indicates the kind of data the value represents. "
   ]
  },
  {
   "cell_type": "markdown",
   "id": "9f73fa21",
   "metadata": {
    "slideshow": {
     "slide_type": "slide"
    }
   },
   "source": [
    "####  Statement creates `x` and uses the **assignment symbol (`=`)** to give `x` a value. "
   ]
  },
  {
   "cell_type": "code",
   "execution_count": 1,
   "id": "92846dd3",
   "metadata": {},
   "outputs": [
    {
     "name": "stdout",
     "output_type": "stream",
     "text": [
      "6\n"
     ]
    }
   ],
   "source": [
    "x=\"6\"\n",
    "print(x)"
   ]
  },
  {
   "cell_type": "code",
   "execution_count": 2,
   "id": "6e7d1ffc",
   "metadata": {},
   "outputs": [
    {
     "name": "stdout",
     "output_type": "stream",
     "text": [
      "practice run\n"
     ]
    }
   ],
   "source": [
    "data_1=\"practice run\"\n",
    "print(data_1)"
   ]
  },
  {
   "cell_type": "code",
   "execution_count": 3,
   "id": "59aabbe2",
   "metadata": {},
   "outputs": [
    {
     "name": "stdout",
     "output_type": "stream",
     "text": [
      "playing around\n"
     ]
    }
   ],
   "source": [
    "_data1=\"playing around\"\n",
    "print(_data1)"
   ]
  },
  {
   "cell_type": "code",
   "execution_count": 4,
   "id": "8b5ef45f",
   "metadata": {},
   "outputs": [],
   "source": [
    "#1_data=\"will not work\"\n",
    "#print(1_data)"
   ]
  },
  {
   "cell_type": "markdown",
   "id": "87338e34",
   "metadata": {},
   "source": [
    "### Print a message"
   ]
  },
  {
   "cell_type": "code",
   "execution_count": 5,
   "id": "3bace5f9",
   "metadata": {},
   "outputs": [],
   "source": [
    "message=\"fun\""
   ]
  },
  {
   "cell_type": "code",
   "execution_count": 6,
   "id": "a991a1a0",
   "metadata": {},
   "outputs": [
    {
     "name": "stdout",
     "output_type": "stream",
     "text": [
      "fun\n"
     ]
    }
   ],
   "source": [
    "print(message)"
   ]
  },
  {
   "cell_type": "markdown",
   "id": "89fec02b",
   "metadata": {},
   "source": [
    "### Try to print a Simple Message: Store a message in a variable, and then print that message."
   ]
  },
  {
   "cell_type": "code",
   "execution_count": 7,
   "id": "4bf85453",
   "metadata": {},
   "outputs": [],
   "source": [
    "x=\"Carter is 19\""
   ]
  },
  {
   "cell_type": "code",
   "execution_count": 8,
   "id": "55bdd6b2",
   "metadata": {},
   "outputs": [],
   "source": [
    "message=x"
   ]
  },
  {
   "cell_type": "code",
   "execution_count": 9,
   "id": "5698773f",
   "metadata": {},
   "outputs": [
    {
     "name": "stdout",
     "output_type": "stream",
     "text": [
      "Carter is 19\n"
     ]
    }
   ],
   "source": [
    "print(message)"
   ]
  },
  {
   "cell_type": "markdown",
   "id": "5f8394d9",
   "metadata": {},
   "source": [
    "# Strings"
   ]
  },
  {
   "cell_type": "markdown",
   "id": "be203204",
   "metadata": {},
   "source": [
    "## A string is simply a series of characters. Anything inside quotes is considered a string in Python, and you can use `single` or `double quotes` around your strings\n",
    "### \"This is a string.\"\n",
    "### 'This is also a string.'"
   ]
  },
  {
   "cell_type": "markdown",
   "id": "adae7f7c",
   "metadata": {},
   "source": [
    "###  Build in String methods\n",
    "Directory: dir('  ')"
   ]
  },
  {
   "cell_type": "code",
   "execution_count": 10,
   "id": "f6103d72",
   "metadata": {},
   "outputs": [
    {
     "data": {
      "text/plain": [
       "['__add__',\n",
       " '__class__',\n",
       " '__contains__',\n",
       " '__delattr__',\n",
       " '__dir__',\n",
       " '__doc__',\n",
       " '__eq__',\n",
       " '__format__',\n",
       " '__ge__',\n",
       " '__getattribute__',\n",
       " '__getitem__',\n",
       " '__getnewargs__',\n",
       " '__gt__',\n",
       " '__hash__',\n",
       " '__init__',\n",
       " '__init_subclass__',\n",
       " '__iter__',\n",
       " '__le__',\n",
       " '__len__',\n",
       " '__lt__',\n",
       " '__mod__',\n",
       " '__mul__',\n",
       " '__ne__',\n",
       " '__new__',\n",
       " '__reduce__',\n",
       " '__reduce_ex__',\n",
       " '__repr__',\n",
       " '__rmod__',\n",
       " '__rmul__',\n",
       " '__setattr__',\n",
       " '__sizeof__',\n",
       " '__str__',\n",
       " '__subclasshook__',\n",
       " 'capitalize',\n",
       " 'casefold',\n",
       " 'center',\n",
       " 'count',\n",
       " 'encode',\n",
       " 'endswith',\n",
       " 'expandtabs',\n",
       " 'find',\n",
       " 'format',\n",
       " 'format_map',\n",
       " 'index',\n",
       " 'isalnum',\n",
       " 'isalpha',\n",
       " 'isascii',\n",
       " 'isdecimal',\n",
       " 'isdigit',\n",
       " 'isidentifier',\n",
       " 'islower',\n",
       " 'isnumeric',\n",
       " 'isprintable',\n",
       " 'isspace',\n",
       " 'istitle',\n",
       " 'isupper',\n",
       " 'join',\n",
       " 'ljust',\n",
       " 'lower',\n",
       " 'lstrip',\n",
       " 'maketrans',\n",
       " 'partition',\n",
       " 'replace',\n",
       " 'rfind',\n",
       " 'rindex',\n",
       " 'rjust',\n",
       " 'rpartition',\n",
       " 'rsplit',\n",
       " 'rstrip',\n",
       " 'split',\n",
       " 'splitlines',\n",
       " 'startswith',\n",
       " 'strip',\n",
       " 'swapcase',\n",
       " 'title',\n",
       " 'translate',\n",
       " 'upper',\n",
       " 'zfill']"
      ]
     },
     "execution_count": 10,
     "metadata": {},
     "output_type": "execute_result"
    }
   ],
   "source": [
    "dir(\"\")"
   ]
  },
  {
   "cell_type": "code",
   "execution_count": 11,
   "id": "972ece85",
   "metadata": {},
   "outputs": [
    {
     "data": {
      "text/plain": [
       "['__add__',\n",
       " '__class__',\n",
       " '__contains__',\n",
       " '__delattr__',\n",
       " '__dir__',\n",
       " '__doc__',\n",
       " '__eq__',\n",
       " '__format__',\n",
       " '__ge__',\n",
       " '__getattribute__',\n",
       " '__getitem__',\n",
       " '__getnewargs__',\n",
       " '__gt__',\n",
       " '__hash__',\n",
       " '__init__',\n",
       " '__init_subclass__',\n",
       " '__iter__',\n",
       " '__le__',\n",
       " '__len__',\n",
       " '__lt__',\n",
       " '__mod__',\n",
       " '__mul__',\n",
       " '__ne__',\n",
       " '__new__',\n",
       " '__reduce__',\n",
       " '__reduce_ex__',\n",
       " '__repr__',\n",
       " '__rmod__',\n",
       " '__rmul__',\n",
       " '__setattr__',\n",
       " '__sizeof__',\n",
       " '__str__',\n",
       " '__subclasshook__',\n",
       " 'capitalize',\n",
       " 'casefold',\n",
       " 'center',\n",
       " 'count',\n",
       " 'encode',\n",
       " 'endswith',\n",
       " 'expandtabs',\n",
       " 'find',\n",
       " 'format',\n",
       " 'format_map',\n",
       " 'index',\n",
       " 'isalnum',\n",
       " 'isalpha',\n",
       " 'isascii',\n",
       " 'isdecimal',\n",
       " 'isdigit',\n",
       " 'isidentifier',\n",
       " 'islower',\n",
       " 'isnumeric',\n",
       " 'isprintable',\n",
       " 'isspace',\n",
       " 'istitle',\n",
       " 'isupper',\n",
       " 'join',\n",
       " 'ljust',\n",
       " 'lower',\n",
       " 'lstrip',\n",
       " 'maketrans',\n",
       " 'partition',\n",
       " 'replace',\n",
       " 'rfind',\n",
       " 'rindex',\n",
       " 'rjust',\n",
       " 'rpartition',\n",
       " 'rsplit',\n",
       " 'rstrip',\n",
       " 'split',\n",
       " 'splitlines',\n",
       " 'startswith',\n",
       " 'strip',\n",
       " 'swapcase',\n",
       " 'title',\n",
       " 'translate',\n",
       " 'upper',\n",
       " 'zfill']"
      ]
     },
     "execution_count": 11,
     "metadata": {},
     "output_type": "execute_result"
    }
   ],
   "source": [
    "dir(\" \")"
   ]
  },
  {
   "cell_type": "code",
   "execution_count": 12,
   "id": "691e6b3a",
   "metadata": {},
   "outputs": [
    {
     "name": "stdout",
     "output_type": "stream",
     "text": [
      "WE ARE IN CS150 CLASS\n"
     ]
    }
   ],
   "source": [
    "# make upper case\n",
    "message=\"We are in cs150 class\"\n",
    "print(message.upper())\n"
   ]
  },
  {
   "cell_type": "code",
   "execution_count": 13,
   "id": "be0d6351",
   "metadata": {},
   "outputs": [
    {
     "name": "stdout",
     "output_type": "stream",
     "text": [
      "we are in cs150 class\n"
     ]
    }
   ],
   "source": [
    "# make lowercase\n",
    "print(message.lower())\n"
   ]
  },
  {
   "cell_type": "code",
   "execution_count": 14,
   "id": "bdcfb17f",
   "metadata": {},
   "outputs": [
    {
     "name": "stdout",
     "output_type": "stream",
     "text": [
      "We are in cs150 class\n"
     ]
    }
   ],
   "source": [
    "# capitalize\n",
    "print(message.capitalize())\n",
    "\n"
   ]
  },
  {
   "cell_type": "code",
   "execution_count": 15,
   "id": "39359e69",
   "metadata": {},
   "outputs": [
    {
     "name": "stdout",
     "output_type": "stream",
     "text": [
      "We Are In Cs150 Class\n"
     ]
    }
   ],
   "source": [
    "# title\n",
    "print(message.title())"
   ]
  },
  {
   "cell_type": "code",
   "execution_count": 16,
   "id": "98ccee67",
   "metadata": {},
   "outputs": [
    {
     "name": "stdout",
     "output_type": "stream",
     "text": [
      "Welcome to we are in cs150 class\n"
     ]
    }
   ],
   "source": [
    "# Concatination\n",
    "print(\"Welcome to\"+ \" \"+ message.lower())"
   ]
  },
  {
   "cell_type": "code",
   "execution_count": 17,
   "id": "94ec7f07",
   "metadata": {},
   "outputs": [],
   "source": [
    "#print(\"Welcome to\"+\" \"+150)"
   ]
  },
  {
   "cell_type": "code",
   "execution_count": 18,
   "id": "c157d46f",
   "metadata": {},
   "outputs": [
    {
     "name": "stdout",
     "output_type": "stream",
     "text": [
      "We are in cs150 class\n"
     ]
    }
   ],
   "source": [
    "# length \n",
    "print(message)"
   ]
  },
  {
   "cell_type": "code",
   "execution_count": 19,
   "id": "4579678b",
   "metadata": {},
   "outputs": [
    {
     "data": {
      "text/plain": [
       "21"
      ]
     },
     "execution_count": 19,
     "metadata": {},
     "output_type": "execute_result"
    }
   ],
   "source": [
    "len(message)"
   ]
  },
  {
   "cell_type": "markdown",
   "id": "9bdf8bca",
   "metadata": {},
   "source": [
    "## Practice1:\n",
    "1. Personal Message: Store a person’s name in a variable, and print a message\n",
    "to that person. Your message should be simple, such as, “Hello Eric,\n",
    "would you like to learn some Python today?”\n",
    "2. Name Cases: Store a person’s name in a variable, and then print that person’s\n",
    "name in lowercase, uppercase, and titlecase."
   ]
  },
  {
   "cell_type": "code",
   "execution_count": 20,
   "id": "ac1df096",
   "metadata": {},
   "outputs": [
    {
     "name": "stdout",
     "output_type": "stream",
     "text": [
      "Hey Carter Spalding are you coming to UDH today?\n"
     ]
    }
   ],
   "source": [
    "name=\"Carter Spalding\"\n",
    "print(\"Hey\"+\" \"+name+\" \"+ \"are you coming to UDH today?\")"
   ]
  },
  {
   "cell_type": "code",
   "execution_count": 21,
   "id": "69ddf2f9",
   "metadata": {},
   "outputs": [
    {
     "name": "stdout",
     "output_type": "stream",
     "text": [
      "CARTER SPALDING\n",
      "carter spalding\n",
      "Carter Spalding\n"
     ]
    }
   ],
   "source": [
    "print(name.upper())\n",
    "print(name.lower())\n",
    "print(name.title())"
   ]
  },
  {
   "cell_type": "code",
   "execution_count": null,
   "id": "cec8c27b",
   "metadata": {},
   "outputs": [],
   "source": []
  },
  {
   "cell_type": "markdown",
   "id": "1f7191b0",
   "metadata": {},
   "source": [
    "## Adding Whitespace to Strings with Tabs or Newlines or  quotation\n",
    "* A backslash (`\\`) in a string is the **escape character**. \n",
    "* The backslash and the character immediately following it form an **escape sequence**. \n",
    "\n",
    "#### 2.4.2 Other Escape Sequences\n",
    "| Escape sequence | Description\n",
    "| :------- | :------------\n",
    "| `\\n` | Insert a newline character in a string. When the string is displayed, for each newline, move the screen cursor to the beginning of the next line. \n",
    "| `\\t` | Insert a horizontal tab. When the string is displayed, for each tab, move the screen cursor to the next tab stop. \n",
    "| `\\\\` | Insert a backslash character in a string.\n",
    "| `\\\"` | Insert a double quote character in a string.\n",
    "| `\\'` | Insert a single quote character in a string."
   ]
  },
  {
   "cell_type": "code",
   "execution_count": 22,
   "id": "ed57b62f",
   "metadata": {},
   "outputs": [
    {
     "name": "stdout",
     "output_type": "stream",
     "text": [
      "Insert a newline character in a string.\n",
      "When the string is displayed,\n",
      "for each newline, move the screen cursor to the beginning of the next line.\n"
     ]
    }
   ],
   "source": [
    "print(\"Insert a newline character in a string.\\nWhen the string is displayed,\\nfor each newline, move the screen cursor to the beginning of the next line.\")"
   ]
  },
  {
   "cell_type": "code",
   "execution_count": 23,
   "id": "161cc541",
   "metadata": {},
   "outputs": [
    {
     "name": "stdout",
     "output_type": "stream",
     "text": [
      "Insert a newline character in a string.  \tWhen the string is displayed, for each newline, \t move the screen cursor to the beginning of the next line.\n"
     ]
    }
   ],
   "source": [
    "print(\"Insert a newline character in a string.  \\tWhen the string is displayed, for each newline, \\t move the screen cursor to the beginning of the next line.\")"
   ]
  },
  {
   "cell_type": "code",
   "execution_count": 24,
   "id": "0e7b2a77",
   "metadata": {},
   "outputs": [
    {
     "name": "stdout",
     "output_type": "stream",
     "text": [
      "List of chapters:\n",
      "\tString \n",
      "\tList \n",
      "\tControl_Structure \n",
      "\tDictionary\n"
     ]
    }
   ],
   "source": [
    "print(\"List of chapters:\\n\\tString \\n\\tList \\n\\tControl_Structure \\n\\tDictionary\")"
   ]
  },
  {
   "cell_type": "code",
   "execution_count": 25,
   "id": "0f6f4862",
   "metadata": {},
   "outputs": [
    {
     "name": "stdout",
     "output_type": "stream",
     "text": [
      "Insert a newline character in a string. When the string is displayed,\\ for each newline,\\ move the screen cursor to the beginning of the next line.\n"
     ]
    }
   ],
   "source": [
    "print(\"Insert a newline character in a string. When the string is displayed,\\\\ for each newline,\\\\ move the screen cursor to the beginning of the next line.\")"
   ]
  },
  {
   "cell_type": "code",
   "execution_count": 26,
   "id": "13159314",
   "metadata": {},
   "outputs": [],
   "source": [
    "#print(Insert a newline character in a string. When the string is displayed, for each newline, move the screen cursor to the beginning of the next line.)"
   ]
  },
  {
   "cell_type": "code",
   "execution_count": 27,
   "id": "bd830981",
   "metadata": {},
   "outputs": [
    {
     "name": "stdout",
     "output_type": "stream",
     "text": [
      "I said, \"Hey you!\"\n"
     ]
    }
   ],
   "source": [
    "print(\"I said, \\\"Hey you!\\\"\")"
   ]
  },
  {
   "cell_type": "code",
   "execution_count": 28,
   "id": "5057a6ea",
   "metadata": {},
   "outputs": [
    {
     "name": "stdout",
     "output_type": "stream",
     "text": [
      "This is Eric's house\n"
     ]
    }
   ],
   "source": [
    "print(\"This is Eric\\'s house\")"
   ]
  },
  {
   "cell_type": "markdown",
   "id": "59e57742",
   "metadata": {},
   "source": [
    "## Useful methods for split a string"
   ]
  },
  {
   "cell_type": "code",
   "execution_count": 29,
   "id": "972a849e",
   "metadata": {},
   "outputs": [
    {
     "name": "stdout",
     "output_type": "stream",
     "text": [
      "We Are In Cs150 Class\n"
     ]
    }
   ],
   "source": [
    "new_message=message.title()\n",
    "print(new_message)"
   ]
  },
  {
   "cell_type": "code",
   "execution_count": 30,
   "id": "a30d3f33",
   "metadata": {},
   "outputs": [
    {
     "name": "stdout",
     "output_type": "stream",
     "text": [
      "['We', 'Are', 'In', 'Cs150', 'Class']\n"
     ]
    }
   ],
   "source": [
    "print(new_message.split(sep=\" \")) #IDEAL METHOD"
   ]
  },
  {
   "cell_type": "code",
   "execution_count": 31,
   "id": "64d6d026",
   "metadata": {},
   "outputs": [
    {
     "name": "stdout",
     "output_type": "stream",
     "text": [
      "['We Are In C', '150 Cla', '', '']\n"
     ]
    }
   ],
   "source": [
    "print(new_message.rsplit(sep=\"s\"))"
   ]
  },
  {
   "cell_type": "markdown",
   "id": "767a741a",
   "metadata": {},
   "source": [
    "## Useful methods for strip a string\n",
    "- lstrip\n",
    "- rstrip\n",
    "- strip"
   ]
  },
  {
   "cell_type": "code",
   "execution_count": 32,
   "id": "a98d7290",
   "metadata": {},
   "outputs": [
    {
     "data": {
      "text/plain": [
       "'We Are In Cs150 Class'"
      ]
     },
     "execution_count": 32,
     "metadata": {},
     "output_type": "execute_result"
    }
   ],
   "source": [
    "new_message"
   ]
  },
  {
   "cell_type": "code",
   "execution_count": 33,
   "id": "59f39cd1",
   "metadata": {},
   "outputs": [
    {
     "data": {
      "text/plain": [
       "'We Are In Cs150 '"
      ]
     },
     "execution_count": 33,
     "metadata": {},
     "output_type": "execute_result"
    }
   ],
   "source": [
    "new_message.rstrip(\"Class\")"
   ]
  },
  {
   "cell_type": "markdown",
   "id": "4516de03",
   "metadata": {},
   "source": []
  },
  {
   "cell_type": "code",
   "execution_count": 34,
   "id": "878aea11",
   "metadata": {},
   "outputs": [
    {
     "name": "stdout",
     "output_type": "stream",
     "text": [
      "      We are in cs150 class\n",
      "We are in cs150 class     \n",
      "We are in cs150 class\n"
     ]
    }
   ],
   "source": [
    "message2= \"      We are in cs150 class     \"\n",
    "print(message2.rstrip())\n",
    "print(message2.lstrip())\n",
    "print(message2.strip())"
   ]
  },
  {
   "cell_type": "code",
   "execution_count": null,
   "id": "172ecf84",
   "metadata": {},
   "outputs": [],
   "source": []
  },
  {
   "cell_type": "markdown",
   "id": "59666fd1",
   "metadata": {},
   "source": [
    "## Practice2\n",
    "1. Stripping Names: Store a person’s name, and include some whitespace characters at the beginning and end of the name. Make sure you use each character combination, \"\\t\" and \"\\n\", at least once.\n",
    "Print the name once, so the whitespace around the name is displayed.\n",
    "Then print the name using each of the three stripping functions, lstrip(),\n",
    "rstrip(), and strip()."
   ]
  },
  {
   "cell_type": "code",
   "execution_count": 35,
   "id": "a0fa9df3",
   "metadata": {},
   "outputs": [
    {
     "name": "stdout",
     "output_type": "stream",
     "text": [
      "\tC\n",
      "\ta\n",
      "\tr\n",
      "\tt\n",
      "\te\n",
      "\tr\n"
     ]
    }
   ],
   "source": [
    "name =\"\\tC\\n\\ta\\n\\tr\\n\\tt\\n\\te\\n\\tr\"\n",
    "print(name)\n"
   ]
  },
  {
   "cell_type": "code",
   "execution_count": 36,
   "id": "b0d88767",
   "metadata": {},
   "outputs": [
    {
     "name": "stdout",
     "output_type": "stream",
     "text": [
      "C\n",
      "\ta\n",
      "\tr\n",
      "\tt\n",
      "\te\n",
      "\tr\n"
     ]
    }
   ],
   "source": [
    "print(name.lstrip())"
   ]
  },
  {
   "cell_type": "code",
   "execution_count": 37,
   "id": "26377f7e",
   "metadata": {},
   "outputs": [
    {
     "name": "stdout",
     "output_type": "stream",
     "text": [
      "\tC\n",
      "\ta\n",
      "\tr\n",
      "\tt\n",
      "\te\n",
      "\t\n"
     ]
    }
   ],
   "source": [
    "print(name.rstrip(\"r\"))"
   ]
  },
  {
   "cell_type": "code",
   "execution_count": 38,
   "id": "b86dc1a6",
   "metadata": {},
   "outputs": [
    {
     "name": "stdout",
     "output_type": "stream",
     "text": [
      "C\n",
      "\ta\n",
      "\tr\n",
      "\tt\n",
      "\te\n",
      "\tr\n"
     ]
    }
   ],
   "source": [
    "print(name.strip())"
   ]
  },
  {
   "cell_type": "markdown",
   "id": "7cb5c2e0",
   "metadata": {},
   "source": [
    "#### Replacing words or characters of a string"
   ]
  },
  {
   "cell_type": "code",
   "execution_count": 39,
   "id": "22032818",
   "metadata": {},
   "outputs": [
    {
     "data": {
      "text/plain": [
       "'We Are In Cs150 Class'"
      ]
     },
     "execution_count": 39,
     "metadata": {},
     "output_type": "execute_result"
    }
   ],
   "source": [
    "new_message"
   ]
  },
  {
   "cell_type": "code",
   "execution_count": 40,
   "id": "1631042e",
   "metadata": {},
   "outputs": [
    {
     "data": {
      "text/plain": [
       "'All of us Are In Cs150 Class'"
      ]
     },
     "execution_count": 40,
     "metadata": {},
     "output_type": "execute_result"
    }
   ],
   "source": [
    "new_message.replace(\"We\", \"All of us\")"
   ]
  },
  {
   "cell_type": "code",
   "execution_count": 43,
   "id": "5b3de060",
   "metadata": {},
   "outputs": [],
   "source": [
    "new_message=new_message.replace(\"W\",\"w\")"
   ]
  },
  {
   "cell_type": "code",
   "execution_count": 44,
   "id": "6d5e1195",
   "metadata": {},
   "outputs": [
    {
     "data": {
      "text/plain": [
       "'we Are In Cs150 Class'"
      ]
     },
     "execution_count": 44,
     "metadata": {},
     "output_type": "execute_result"
    }
   ],
   "source": [
    "new_message"
   ]
  },
  {
   "cell_type": "markdown",
   "id": "7a2ff52e",
   "metadata": {},
   "source": [
    "# Number"
   ]
  },
  {
   "cell_type": "markdown",
   "id": "7ed88df4",
   "metadata": {},
   "source": [
    "# Data Types\n",
    "* `float` (floating point) - used for real numbers.\n",
    "* `int` (integer) - used for integers."
   ]
  },
  {
   "cell_type": "markdown",
   "id": "c37ef37a",
   "metadata": {},
   "source": [
    "## Arithmetic Operator\n",
    "| Python operation | Arithmetic operator | Python expression\n",
    "| :-------- | :-------- | :-------- \n",
    "| Addition | `+`  | `f + 7` \n",
    "| Subtraction | `–` | `p - c` \n",
    "| Multiplication | `*` | `b * m` \n",
    "| Exponentiation | `**` |  `x ** y` \n",
    "| True division | `/` | `x / y` \n",
    "| Floor division | `//` | `x // y` \n",
    "| Remainder (modulo) | `%` | `r % s` \n",
    "\n",
    "`Floor division` is an operation in Python that divides two numbers and rounds the result down to the nearest integer."
   ]
  },
  {
   "cell_type": "code",
   "execution_count": 46,
   "id": "ddee7b60",
   "metadata": {},
   "outputs": [
    {
     "data": {
      "text/plain": [
       "9"
      ]
     },
     "execution_count": 46,
     "metadata": {},
     "output_type": "execute_result"
    }
   ],
   "source": [
    "3**2 #Exponent(Power)"
   ]
  },
  {
   "cell_type": "code",
   "execution_count": 48,
   "id": "4559c77f",
   "metadata": {},
   "outputs": [
    {
     "data": {
      "text/plain": [
       "2.25"
      ]
     },
     "execution_count": 48,
     "metadata": {},
     "output_type": "execute_result"
    }
   ],
   "source": [
    "9/4 #True Division"
   ]
  },
  {
   "cell_type": "code",
   "execution_count": 49,
   "id": "0a916868",
   "metadata": {},
   "outputs": [
    {
     "data": {
      "text/plain": [
       "9"
      ]
     },
     "execution_count": 49,
     "metadata": {},
     "output_type": "execute_result"
    }
   ],
   "source": [
    "99//10 #Flow Division (Rounds DOWN to the nearest integer)"
   ]
  },
  {
   "cell_type": "code",
   "execution_count": 50,
   "id": "be8c0ca4",
   "metadata": {},
   "outputs": [
    {
     "data": {
      "text/plain": [
       "1"
      ]
     },
     "execution_count": 50,
     "metadata": {},
     "output_type": "execute_result"
    }
   ],
   "source": [
    "13%4 #Remainder"
   ]
  },
  {
   "cell_type": "markdown",
   "id": "290d4afb",
   "metadata": {},
   "source": [
    "## Avoiding Type Errors with the str() Function"
   ]
  },
  {
   "cell_type": "code",
   "execution_count": 51,
   "id": "d853bd0b",
   "metadata": {},
   "outputs": [
    {
     "name": "stdout",
     "output_type": "stream",
     "text": [
      "Carter is 19 years old\n"
     ]
    }
   ],
   "source": [
    "print(\"Carter is 19 years old\")"
   ]
  },
  {
   "cell_type": "code",
   "execution_count": 53,
   "id": "9da718ed",
   "metadata": {},
   "outputs": [],
   "source": [
    "name=\"Carter\"\n",
    "age=19"
   ]
  },
  {
   "cell_type": "code",
   "execution_count": 57,
   "id": "d3d77d88",
   "metadata": {},
   "outputs": [
    {
     "name": "stdout",
     "output_type": "stream",
     "text": [
      "Carter is 19 years old\n"
     ]
    }
   ],
   "source": [
    "print(name+\" \"+\"is\"+\" \"+str(age)+\" \"+ \"years old\") #Can change variable that is a integer to a string (so that you can concatinate it) add str()"
   ]
  },
  {
   "cell_type": "code",
   "execution_count": null,
   "id": "5936f26c",
   "metadata": {},
   "outputs": [],
   "source": []
  },
  {
   "cell_type": "markdown",
   "id": "165bd5f8",
   "metadata": {},
   "source": [
    "## Practice3 \n",
    "1. Write addition, subtraction, multiplication, and division\n",
    "operations that each result in the number 91. Be sure to enclose your operations\n",
    "in print statements to see the results. You should create four lines that look\n",
    "like this:\n",
    "print(53 + 38)\n",
    "Your output should simply be four lines with the number 91 appearing once\n",
    "on each line.\n",
    "2. Favorite Number: Store your favorite number in a variable. Then, using\n",
    "that variable, create a message that reveals your favorite number. Print that\n",
    "message."
   ]
  },
  {
   "cell_type": "code",
   "execution_count": 61,
   "id": "0deea5b4",
   "metadata": {},
   "outputs": [
    {
     "name": "stdout",
     "output_type": "stream",
     "text": [
      "The addition:\n",
      "\t  91\n"
     ]
    }
   ],
   "source": [
    "print(\"The addition:\\n\\t \" ,90+1)\n"
   ]
  },
  {
   "cell_type": "code",
   "execution_count": 62,
   "id": "3abdb7ed",
   "metadata": {},
   "outputs": [
    {
     "name": "stdout",
     "output_type": "stream",
     "text": [
      "The stubtraction:\n",
      "\t 91\n"
     ]
    }
   ],
   "source": [
    "print(\"The stubtraction:\\n\\t\", 92-1)"
   ]
  },
  {
   "cell_type": "code",
   "execution_count": 63,
   "id": "64f1ae69",
   "metadata": {},
   "outputs": [
    {
     "name": "stdout",
     "output_type": "stream",
     "text": [
      "The division: \n",
      "\t 91.0\n"
     ]
    }
   ],
   "source": [
    "print(\"The division: \\n\\t\", 91/1)"
   ]
  },
  {
   "cell_type": "code",
   "execution_count": 65,
   "id": "988b32f0",
   "metadata": {},
   "outputs": [
    {
     "name": "stdout",
     "output_type": "stream",
     "text": [
      "The multiplication:\n",
      "\t 91\n"
     ]
    }
   ],
   "source": [
    "print(\"The multiplication:\\n\\t\", 91*1)"
   ]
  },
  {
   "cell_type": "code",
   "execution_count": null,
   "id": "cf7695cf",
   "metadata": {},
   "outputs": [],
   "source": [
    "favorite_number=17\n",
    "print('My favorite number is:',favorite_number)\n"
   ]
  },
  {
   "cell_type": "markdown",
   "id": "e05b5c26",
   "metadata": {},
   "source": [
    "## Getting Input from the User\n",
    "* Built-in **`input` function** requests and obtains user input."
   ]
  },
  {
   "cell_type": "code",
   "execution_count": 77,
   "id": "caa5ce73",
   "metadata": {},
   "outputs": [
    {
     "name": "stdout",
     "output_type": "stream",
     "text": [
      "Enter your name: Carter Spalding\n"
     ]
    }
   ],
   "source": [
    "message_input=input(\"Enter your name: \")"
   ]
  },
  {
   "cell_type": "code",
   "execution_count": 81,
   "id": "f09707a3",
   "metadata": {},
   "outputs": [
    {
     "name": "stdout",
     "output_type": "stream",
     "text": [
      "Enter the name of your favorite flower: Sunflower\n"
     ]
    }
   ],
   "source": [
    "new_variable=input(\"Enter the name of your favorite flower: \")"
   ]
  },
  {
   "cell_type": "code",
   "execution_count": 83,
   "id": "d5a698c2",
   "metadata": {},
   "outputs": [
    {
     "name": "stdout",
     "output_type": "stream",
     "text": [
      "<class 'str'>\n"
     ]
    }
   ],
   "source": [
    "print(type(new_variable))"
   ]
  },
  {
   "cell_type": "code",
   "execution_count": 88,
   "id": "93f54fc5",
   "metadata": {},
   "outputs": [
    {
     "name": "stdout",
     "output_type": "stream",
     "text": [
      "Enter a number: 17\n"
     ]
    }
   ],
   "source": [
    "number=int(input(\"Enter a number: \")) #Enter int() before input to get the variable to register as int rather than str"
   ]
  },
  {
   "cell_type": "code",
   "execution_count": 89,
   "id": "4a482075",
   "metadata": {},
   "outputs": [
    {
     "data": {
      "text/plain": [
       "int"
      ]
     },
     "execution_count": 89,
     "metadata": {},
     "output_type": "execute_result"
    }
   ],
   "source": [
    "type(number)"
   ]
  },
  {
   "cell_type": "code",
   "execution_count": 90,
   "id": "95ec261f",
   "metadata": {},
   "outputs": [
    {
     "name": "stdout",
     "output_type": "stream",
     "text": [
      "Enter a floaring point number: 17.69\n"
     ]
    }
   ],
   "source": [
    "number1=float(input(\"Enter a floaring point number: \"))"
   ]
  },
  {
   "cell_type": "code",
   "execution_count": 91,
   "id": "8b8f4c39",
   "metadata": {},
   "outputs": [
    {
     "name": "stdout",
     "output_type": "stream",
     "text": [
      "<class 'float'>\n"
     ]
    }
   ],
   "source": [
    "print(type(number1))"
   ]
  },
  {
   "cell_type": "markdown",
   "id": "476c6426",
   "metadata": {},
   "source": [
    "## Getting an Integer/ Float from the User\n",
    "* If you need an integer, convert the string to an integer using the built-in **`int` / `float` function**. "
   ]
  },
  {
   "cell_type": "code",
   "execution_count": 92,
   "id": "1905f791",
   "metadata": {},
   "outputs": [
    {
     "name": "stdout",
     "output_type": "stream",
     "text": [
      "Enter a number: 17\n"
     ]
    },
    {
     "data": {
      "text/plain": [
       "int"
      ]
     },
     "execution_count": 92,
     "metadata": {},
     "output_type": "execute_result"
    }
   ],
   "source": [
    "number=int(input(\"Enter a number: \")) #Enter int() before input to get the variable to register as int rather than str\n",
    "type(number)"
   ]
  },
  {
   "cell_type": "code",
   "execution_count": 93,
   "id": "a8b6814e",
   "metadata": {},
   "outputs": [
    {
     "name": "stdout",
     "output_type": "stream",
     "text": [
      "Enter a floaring point number: 17.69\n",
      "<class 'float'>\n"
     ]
    }
   ],
   "source": [
    "number1=float(input(\"Enter a floaring point number: \"))\n",
    "print(type(number1))"
   ]
  },
  {
   "cell_type": "markdown",
   "id": "6ff42bfa",
   "metadata": {},
   "source": [
    "## Checking the data type using `type` function"
   ]
  },
  {
   "cell_type": "markdown",
   "id": "c91be580",
   "metadata": {},
   "source": [
    "###**Using the variable called 'type()'**"
   ]
  },
  {
   "cell_type": "code",
   "execution_count": null,
   "id": "5c848906",
   "metadata": {},
   "outputs": [],
   "source": []
  },
  {
   "cell_type": "markdown",
   "id": "fc6e7e28",
   "metadata": {},
   "source": [
    "## Errors in Python\n",
    "When an error occurs in your program, the Python interpreter does its\n",
    "best to help you figure out where the problem is. The interpreter provides\n",
    "a traceback when a program cannot run successfully. A traceback is a record\n",
    "of where the interpreter ran into trouble when trying to execute your code.\n",
    "Errors can be classified into three major groups:\n",
    "- Syntax errors\n",
    "- Runtime errors\n",
    "- Logical errors"
   ]
  },
  {
   "cell_type": "markdown",
   "id": "7fe3220f",
   "metadata": {},
   "source": [
    "### Syntax error.\n",
    "- Python will find these kinds of errors when it tries to parse your program, and exit with an error message without running anything. \n",
    "- Syntax errors are mistakes in the use of the Python language, and are analogous to spelling or grammar mistakes in a language like English: for example, the sentence Would you some tea? does not make sense – it is missing a verb.\n"
   ]
  },
  {
   "cell_type": "markdown",
   "id": "88840cff",
   "metadata": {},
   "source": [
    "### Example:\n",
    "- leaving out a keyword\n",
    "- putting a keyword in the wrong place\n",
    "- leaving out a symbol, such as a colon, comma or brackets\n",
    "- misspelling a keyword\n",
    "- incorrect indentation\n",
    "- empty block"
   ]
  },
  {
   "cell_type": "code",
   "execution_count": 94,
   "id": "1b4b64c3",
   "metadata": {},
   "outputs": [
    {
     "ename": "SyntaxError",
     "evalue": "EOL while scanning string literal (<ipython-input-94-c1046b6291cc>, line 1)",
     "output_type": "error",
     "traceback": [
      "\u001b[1;36m  File \u001b[1;32m\"<ipython-input-94-c1046b6291cc>\"\u001b[1;36m, line \u001b[1;32m1\u001b[0m\n\u001b[1;33m    print('this is an error message)\u001b[0m\n\u001b[1;37m                                    ^\u001b[0m\n\u001b[1;31mSyntaxError\u001b[0m\u001b[1;31m:\u001b[0m EOL while scanning string literal\n"
     ]
    }
   ],
   "source": [
    "print('this is an error message)"
   ]
  },
  {
   "cell_type": "code",
   "execution_count": 96,
   "id": "92353ef9",
   "metadata": {},
   "outputs": [
    {
     "ename": "SyntaxError",
     "evalue": "cannot assign to function call (<ipython-input-96-615a7b972472>, line 1)",
     "output_type": "error",
     "traceback": [
      "\u001b[1;36m  File \u001b[1;32m\"<ipython-input-96-615a7b972472>\"\u001b[1;36m, line \u001b[1;32m1\u001b[0m\n\u001b[1;33m    len(\"hello\")=5\u001b[0m\n\u001b[1;37m    ^\u001b[0m\n\u001b[1;31mSyntaxError\u001b[0m\u001b[1;31m:\u001b[0m cannot assign to function call\n"
     ]
    }
   ],
   "source": [
    "len(\"hello\")=5"
   ]
  },
  {
   "cell_type": "code",
   "execution_count": 97,
   "id": "6616856b",
   "metadata": {},
   "outputs": [
    {
     "ename": "SyntaxError",
     "evalue": "cannot assign to literal (<ipython-input-97-4e5441af3077>, line 1)",
     "output_type": "error",
     "traceback": [
      "\u001b[1;36m  File \u001b[1;32m\"<ipython-input-97-4e5441af3077>\"\u001b[1;36m, line \u001b[1;32m1\u001b[0m\n\u001b[1;33m    1=python\u001b[0m\n\u001b[1;37m    ^\u001b[0m\n\u001b[1;31mSyntaxError\u001b[0m\u001b[1;31m:\u001b[0m cannot assign to literal\n"
     ]
    }
   ],
   "source": [
    "1=python"
   ]
  },
  {
   "cell_type": "markdown",
   "id": "f10a50b1",
   "metadata": {},
   "source": [
    "## Runtime error\n",
    "- A program with a runtime error is one that passed the interpreter’s syntax checks, and started to execute. \n",
    "- However, during the execution of one of the statements in the program, an error occurred that caused the interpreter to stop executing the program and display an error message. \n",
    "- Runtime errors are also called `exceptions` because they usually indicate that something exceptional (and bad) has happened."
   ]
  },
  {
   "cell_type": "markdown",
   "id": "b5ce828a",
   "metadata": {},
   "source": [
    "### Examples: \n",
    "- division by zero.\n",
    "- performing an operation on incompatible types.\n",
    "- using an identifier which has not been defined.\n",
    "- accessing a list element, dictionary value or object attribute which doesn't exist.\n",
    "- trying to access a file which doesn't exist."
   ]
  },
  {
   "cell_type": "code",
   "execution_count": 100,
   "id": "7176f581",
   "metadata": {},
   "outputs": [
    {
     "ename": "ZeroDivisionError",
     "evalue": "division by zero",
     "output_type": "error",
     "traceback": [
      "\u001b[1;31m---------------------------------------------------------------------------\u001b[0m",
      "\u001b[1;31mZeroDivisionError\u001b[0m                         Traceback (most recent call last)",
      "\u001b[1;32m<ipython-input-100-dd97ac5c07e9>\u001b[0m in \u001b[0;36m<module>\u001b[1;34m\u001b[0m\n\u001b[1;32m----> 1\u001b[1;33m \u001b[1;36m15\u001b[0m\u001b[1;33m/\u001b[0m\u001b[1;36m0\u001b[0m\u001b[1;33m\u001b[0m\u001b[1;33m\u001b[0m\u001b[0m\n\u001b[0m",
      "\u001b[1;31mZeroDivisionError\u001b[0m: division by zero"
     ]
    }
   ],
   "source": [
    "15/0"
   ]
  },
  {
   "cell_type": "code",
   "execution_count": 106,
   "id": "15f63562",
   "metadata": {},
   "outputs": [
    {
     "name": "stdout",
     "output_type": "stream",
     "text": [
      "Enter and amount: 46\n",
      "Tax on 46 is 2.76\n"
     ]
    }
   ],
   "source": [
    "subtotal=int(input(\"Enter and amount: \"))\n",
    "tax=0.06 * subtotal\n",
    "print(\"Tax on\", subtotal, \"is\", tax)"
   ]
  },
  {
   "cell_type": "code",
   "execution_count": null,
   "id": "d1402fc5",
   "metadata": {},
   "outputs": [],
   "source": []
  },
  {
   "cell_type": "code",
   "execution_count": null,
   "id": "7b172df3",
   "metadata": {},
   "outputs": [],
   "source": []
  },
  {
   "cell_type": "markdown",
   "id": "6dec365d",
   "metadata": {},
   "source": [
    "### Logical error\n",
    "- Logical errors are the most difficult to fix. They occur when the program runs without crashing, but produces an incorrect result. \n",
    "- The error is caused by a mistake in the program’s logic. \n",
    "- You won’t get an error message, because no syntax or runtime error has occurred. \n",
    "- You will have to find the problem on your own by reviewing all the relevant parts of your code "
   ]
  },
  {
   "cell_type": "code",
   "execution_count": 107,
   "id": "49aba111",
   "metadata": {},
   "outputs": [
    {
     "name": "stdout",
     "output_type": "stream",
     "text": [
      "Enter number1: 2\n",
      "Enter number2: 5\n",
      "The multiplication of number1 and number2 is:  7\n"
     ]
    }
   ],
   "source": [
    "number1= int(input(\"Enter number1: \"))\n",
    "number2= int(input(\"Enter number2: \"))\n",
    "print(\"The multiplication of number1 and number2 is: \", number1+number2)"
   ]
  },
  {
   "cell_type": "code",
   "execution_count": null,
   "id": "d62a5c59",
   "metadata": {},
   "outputs": [],
   "source": []
  },
  {
   "cell_type": "code",
   "execution_count": null,
   "id": "16d4bda9",
   "metadata": {},
   "outputs": [],
   "source": []
  }
 ],
 "metadata": {
  "kernelspec": {
   "display_name": "Python 3",
   "language": "python",
   "name": "python3"
  },
  "language_info": {
   "codemirror_mode": {
    "name": "ipython",
    "version": 3
   },
   "file_extension": ".py",
   "mimetype": "text/x-python",
   "name": "python",
   "nbconvert_exporter": "python",
   "pygments_lexer": "ipython3",
   "version": "3.8.8"
  }
 },
 "nbformat": 4,
 "nbformat_minor": 5
}
